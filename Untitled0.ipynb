{
  "nbformat": 4,
  "nbformat_minor": 0,
  "metadata": {
    "colab": {
      "name": "Untitled0.ipynb",
      "provenance": [],
      "include_colab_link": true
    },
    "kernelspec": {
      "name": "python3",
      "display_name": "Python 3"
    }
  },
  "cells": [
    {
      "cell_type": "markdown",
      "metadata": {
        "id": "view-in-github",
        "colab_type": "text"
      },
      "source": [
        "<a href=\"https://colab.research.google.com/github/bouarfachahinez/checkpoint1/blob/master/Untitled0.ipynb\" target=\"_parent\"><img src=\"https://colab.research.google.com/assets/colab-badge.svg\" alt=\"Open In Colab\"/></a>"
      ]
    },
    {
      "cell_type": "markdown",
      "metadata": {
        "id": "QoaRnRaVBXDl"
      },
      "source": [
        "Question 1\n",
        "\n",
        "Write a program which will find all such numbers which are divisible by 7 but are not a multiple of 5, between 2000 and 3200 (both included). The numbers obtained should be printed in a list.\n",
        "\n",
        "Hints: Consider use range(#begin, #end) method "
      ]
    },
    {
      "cell_type": "code",
      "metadata": {
        "colab": {
          "base_uri": "https://localhost:8080/"
        },
        "id": "U31Fb-uZBSa2",
        "outputId": "a69af8a8-5588-4c3e-936d-3f0654673cdf"
      },
      "source": [
        "num=[x for x in range (2000, 3201) if x % 7== 0 and x% 5 != 0]\n",
        "print(num)"
      ],
      "execution_count": null,
      "outputs": [
        {
          "output_type": "stream",
          "text": [
            "[2002, 2009, 2016, 2023, 2037, 2044, 2051, 2058, 2072, 2079, 2086, 2093, 2107, 2114, 2121, 2128, 2142, 2149, 2156, 2163, 2177, 2184, 2191, 2198, 2212, 2219, 2226, 2233, 2247, 2254, 2261, 2268, 2282, 2289, 2296, 2303, 2317, 2324, 2331, 2338, 2352, 2359, 2366, 2373, 2387, 2394, 2401, 2408, 2422, 2429, 2436, 2443, 2457, 2464, 2471, 2478, 2492, 2499, 2506, 2513, 2527, 2534, 2541, 2548, 2562, 2569, 2576, 2583, 2597, 2604, 2611, 2618, 2632, 2639, 2646, 2653, 2667, 2674, 2681, 2688, 2702, 2709, 2716, 2723, 2737, 2744, 2751, 2758, 2772, 2779, 2786, 2793, 2807, 2814, 2821, 2828, 2842, 2849, 2856, 2863, 2877, 2884, 2891, 2898, 2912, 2919, 2926, 2933, 2947, 2954, 2961, 2968, 2982, 2989, 2996, 3003, 3017, 3024, 3031, 3038, 3052, 3059, 3066, 3073, 3087, 3094, 3101, 3108, 3122, 3129, 3136, 3143, 3157, 3164, 3171, 3178, 3192, 3199]\n"
          ],
          "name": "stdout"
        }
      ]
    },
    {
      "cell_type": "markdown",
      "metadata": {
        "id": "im0qcxnrBnEk"
      },
      "source": [
        "Question 2 \n",
        "\n",
        " Write a program which can compute the factorial of a given number. (the factorial of n is the product of all positive integers less than or equal to n). for example factorial(5)= 5 x 4 x 3 x 2 x 1 the result is 120.  (i.e. factorial (0)=1)\n"
      ]
    },
    {
      "cell_type": "code",
      "metadata": {
        "colab": {
          "base_uri": "https://localhost:8080/"
        },
        "id": "apBUEJ5RBqlD",
        "outputId": "ea33896b-52d3-4384-b55c-0d1f64e045e8"
      },
      "source": [
        "def F_factorial(n):\n",
        "   if n == 1:\n",
        "       return n\n",
        "   else:\n",
        "       return n*F_factorial(n-1)\n",
        "n = 5\n",
        "if n < 0:\n",
        "    print(\"Erreur\")\n",
        "elif n == 0:\n",
        "    print(\"Le factorielle de 0 is 1\")\n",
        "else:\n",
        "    print(\"Le factorielle de\", n, \"is\", F_factorial(n))"
      ],
      "execution_count": null,
      "outputs": [
        {
          "output_type": "stream",
          "text": [
            "Le factorielle de 5 is 120\n"
          ],
          "name": "stdout"
        }
      ]
    },
    {
      "cell_type": "markdown",
      "metadata": {
        "id": "dTxZ32bpCXI1"
      },
      "source": [
        "Question 3 \n",
        "\n",
        "With a given integer number n, write a program to generate a dictionary that contains (i, i*i) such that is an integral number between 1 and n (both included). and then the program should print the dictionary. Suppose the following input is supplied to the program: 8 Then, the output should be: {1: 1, 2: 4, 3: 9, 4: 16, 5: 25, 6: 36, 7: 49, 8: 64}  \n"
      ]
    },
    {
      "cell_type": "code",
      "metadata": {
        "colab": {
          "base_uri": "https://localhost:8080/"
        },
        "id": "7PubIq-ICaob",
        "outputId": "02b155d2-dc5a-4041-d1fa-28e3096edaca"
      },
      "source": [
        "n = int()\n",
        "dec_square = {i : i*i for i in range(1, 9)}\n",
        "dec_square"
      ],
      "execution_count": null,
      "outputs": [
        {
          "output_type": "execute_result",
          "data": {
            "text/plain": [
              "{1: 1, 2: 4, 3: 9, 4: 16, 5: 25, 6: 36, 7: 49, 8: 64}"
            ]
          },
          "metadata": {
            "tags": []
          },
          "execution_count": 8
        }
      ]
    },
    {
      "cell_type": "markdown",
      "metadata": {
        "id": "dv0foKKmC8Az"
      },
      "source": [
        "Question 4 \n",
        "\n",
        "Given a non-empty string and an int n, return a new string where the char at index n has been removed. The value of n will be a valid index of a char in the original string (i.e. n will be in the range 0..len(str)-1 inclusive). \n",
        "\n",
        "missing_char('kitten', 1) → 'ktten'    for example here we remove \"i\" which is located in the index 1\n",
        "\n",
        "missing_char('kitten', 0) → 'itten'   here we remove \"k\" which is in the index 0\n",
        "\n",
        "missing_char('kitten', 4) → 'kittn'   here we remove \"e\" which is in the index 4\n"
      ]
    },
    {
      "cell_type": "code",
      "metadata": {
        "colab": {
          "base_uri": "https://localhost:8080/"
        },
        "id": "FmzpmGnPC_5k",
        "outputId": "0d2d0c03-133a-4495-9609-c85d63bc7ad7"
      },
      "source": [
        "def missing_char_of(str, n):\n",
        "      part_one = str[:n] \n",
        "      part_two = str[n+1:]\n",
        "      return part_one + part_two\n",
        "    \n",
        "print(missing_char_of('kitten', 1))\n",
        "print(missing_char_of('kitten', 0))\n",
        "print(missing_char_of('kitten', 4))"
      ],
      "execution_count": null,
      "outputs": [
        {
          "output_type": "stream",
          "text": [
            "ktten\n",
            "itten\n",
            "kittn\n"
          ],
          "name": "stdout"
        }
      ]
    },
    {
      "cell_type": "markdown",
      "metadata": {
        "id": "ZskzrsHuDkd1"
      },
      "source": [
        "Question 5 \n",
        "\n",
        "Write a NumPy program to convert a NumPy array into a Python list structure.\n",
        "\n",
        "Expected Output: \n",
        "\n",
        "Original array elements: [[0 1] [2 3] [4 5]] \n",
        "\n",
        "Array to list: [[0, 1], [2, 3], [4, 5]] \n",
        " \n",
        "\n",
        "Hint: we can use the to_list() function to ensure the conversion"
      ]
    },
    {
      "cell_type": "code",
      "metadata": {
        "colab": {
          "base_uri": "https://localhost:8080/"
        },
        "id": "CYeCc5F8DnXN",
        "outputId": "37b10e19-777c-4b18-9275-6ac3baa2bf38"
      },
      "source": [
        "import numpy as np\n",
        "\n",
        "c=np.array([[0,1],[2,3],[4,5]])\n",
        "\n",
        "print(\"Original array elements:\",c)\n",
        "\n",
        "print (\"Conversion of array to list : \",c.tolist())"
      ],
      "execution_count": null,
      "outputs": [
        {
          "output_type": "stream",
          "text": [
            "Original array elements: [[0 1]\n",
            " [2 3]\n",
            " [4 5]]\n",
            "Conversion of array to list :  [[0, 1], [2, 3], [4, 5]]\n"
          ],
          "name": "stdout"
        }
      ]
    },
    {
      "cell_type": "markdown",
      "metadata": {
        "id": "nn9ItvY9EID-"
      },
      "source": [
        "Question 6\n",
        "\n",
        "Write a NumPy program to compute the covariance matrix of two given arrays. \n",
        "\n",
        "Original array1: [0 1 2] \n",
        "\n",
        "Original array2: [2 1 0] \n",
        "\n",
        "Covariance matrix of the said arrays: [[ 1. -1.] [-1. 1.]]\n",
        " \n",
        "\n",
        "Hint: We can use the np.cov() function to calculate the covariance between these two arrays"
      ]
    },
    {
      "cell_type": "code",
      "metadata": {
        "colab": {
          "base_uri": "https://localhost:8080/"
        },
        "id": "CMK-3HYBEMNb",
        "outputId": "06d74e83-73ca-4ef1-f0cb-c6ab7815f99e"
      },
      "source": [
        "import numpy as np\n",
        "\n",
        "a=np.array([0,1,2])\n",
        "b=np.array([2,1,0])\n",
        "print(\"Original array1 :\",a)\n",
        "print(\"Original array2 :\",b)\n",
        "\n",
        "np.cov(a,b)"
      ],
      "execution_count": null,
      "outputs": [
        {
          "output_type": "stream",
          "text": [
            "Original array1 : [0 1 2]\n",
            "Original array2 : [2 1 0]\n"
          ],
          "name": "stdout"
        },
        {
          "output_type": "execute_result",
          "data": {
            "text/plain": [
              "array([[ 1., -1.],\n",
              "       [-1.,  1.]])"
            ]
          },
          "metadata": {
            "tags": []
          },
          "execution_count": 15
        }
      ]
    },
    {
      "cell_type": "markdown",
      "metadata": {
        "id": "7L3_HkBrEm7s"
      },
      "source": [
        "Question 7\n",
        "\n",
        "Question: Write a program that calculates and prints the value according to the given formula: Q = Square root of [(2 * C * D)/H] \n",
        "\n",
        "Following are the fixed values of C and H: C is 50. H is 30. \n",
        "\n",
        "D is the variable whose values should be input to your program in a comma-separated sequence. (that means D contains more than value)\n",
        "\n",
        "Example Let's assume the following comma separated input sequence is given to the program: 100,150,180 The output of the program should be: 18,22,24 \n",
        "\n",
        "To more understand we will obtain a result for each value of D:  Q1= Square root of [(2 * C * 100)/H] =18, Q2= Square root of [(2 * C * 150)/H] = 22 and Q3 = Square root of [(2 * C * 180)/H]  = 24\n",
        "\n",
        "Hints: If the output received is in decimal form, it should be rounded off to its nearest value (for example, if the output received is 26.0, it should be printed as 26) In case of input data being supplied to the question, it should be assumed to be a console input. "
      ]
    },
    {
      "cell_type": "code",
      "metadata": {
        "colab": {
          "base_uri": "https://localhost:8080/"
        },
        "id": "yMyZD0TxEpr8",
        "outputId": "f7b0914a-6dea-43b4-f544-6098660dfaa1"
      },
      "source": [
        "import math\n",
        "C=50\n",
        "H=30\n",
        "resultat = []\n",
        "items=[x for x in input(\"Enter a value for D : \").split(',')]\n",
        "for D in items:\n",
        "    resultat.append(str(int(round(math.sqrt(2*C*float(D)/H)))))\n",
        "\n",
        "\n",
        "print(','.join(resultat))"
      ],
      "execution_count": null,
      "outputs": [
        {
          "output_type": "stream",
          "text": [
            "Enter a value for D : 11\n",
            "6\n"
          ],
          "name": "stdout"
        }
      ]
    },
    {
      "cell_type": "markdown",
      "metadata": {
        "id": "Rc3GUXXlCwJ1"
      },
      "source": [
        ""
      ]
    }
  ]
}